{
 "cells": [
  {
   "cell_type": "markdown",
   "id": "931e0d8d",
   "metadata": {},
   "source": [
    "# Acesso ao SnowFlake com o Jupyter Notebook\n",
    "\n",
    "## Necessário instalar no desktop ...\n",
    "!pip install snowflake-connector-python   \n",
    "!pip install snowflake-connector-python[pandas]   \n",
    "!pip install --upgrade snowflake-sqlalchemy   "
   ]
  },
  {
   "cell_type": "code",
   "execution_count": 1,
   "id": "d8a1b126",
   "metadata": {},
   "outputs": [
    {
     "name": "stdout",
     "output_type": "stream",
     "text": [
      "Enter password:········\n"
     ]
    }
   ],
   "source": [
    "import getpass\n",
    "pwd = getpass.getpass(\"Enter password:\")"
   ]
  },
  {
   "cell_type": "code",
   "execution_count": 2,
   "id": "46f6c669",
   "metadata": {},
   "outputs": [],
   "source": [
    "import pandas as pd\n",
    "import numpy \n",
    "import matplotlib.pyplot as plt\n",
    "from sqlalchemy import create_engine\n",
    "from snowflake.sqlalchemy import URL\n",
    "import snowflake.connector\n",
    "\n",
    "url = URL(\n",
    "    account = 'aq93756.canada-central.azure',\n",
    "    user = 'vsvasconcelos',\n",
    "    password=str(pwd),\n",
    "    database = 'covid_cidades',\n",
    "    schema = 'public',\n",
    "    warehouse= 'lakehouse',\n",
    "    role = 'sysadmin',\n",
    ")\n",
    "engine = create_engine(url)\n",
    "connection = engine.connect()"
   ]
  },
  {
   "cell_type": "code",
   "execution_count": 3,
   "id": "f45a8a31",
   "metadata": {},
   "outputs": [],
   "source": [
    "query = '''select * from casos'''\n",
    "data = pd.read_sql(query, connection)"
   ]
  },
  {
   "cell_type": "code",
   "execution_count": 4,
   "id": "586da807",
   "metadata": {},
   "outputs": [
    {
     "data": {
      "text/plain": [
       "1336186"
      ]
     },
     "execution_count": 4,
     "metadata": {},
     "output_type": "execute_result"
    }
   ],
   "source": [
    "#Qual a quantidade de registros?\n",
    "len(data)"
   ]
  },
  {
   "cell_type": "code",
   "execution_count": 5,
   "id": "cb26ee61",
   "metadata": {},
   "outputs": [
    {
     "data": {
      "text/plain": [
       "epi_week                           1336186\n",
       "date                               1336186\n",
       "country                            1336186\n",
       "state                              1336186\n",
       "city                               1336186\n",
       "ibgeid                             1336186\n",
       "newdeaths                          1336186\n",
       "deaths                             1336186\n",
       "newcases                           1336186\n",
       "totalcases                         1336186\n",
       "deaths_per_100k_inhabitants        1336186\n",
       "totalcases_per_100k_inhabitants    1336186\n",
       "deaths_by_totalcases               1336186\n",
       "_source                            1335600\n",
       "last_info_date                     1335600\n",
       "dtype: int64"
      ]
     },
     "execution_count": 5,
     "metadata": {},
     "output_type": "execute_result"
    }
   ],
   "source": [
    "data.count()"
   ]
  },
  {
   "cell_type": "code",
   "execution_count": 6,
   "id": "c7289ac4",
   "metadata": {},
   "outputs": [
    {
     "name": "stdout",
     "output_type": "stream",
     "text": [
      "<class 'pandas.core.frame.DataFrame'>\n",
      "RangeIndex: 1336186 entries, 0 to 1336185\n",
      "Data columns (total 15 columns):\n",
      " #   Column                           Non-Null Count    Dtype  \n",
      "---  ------                           --------------    -----  \n",
      " 0   epi_week                         1336186 non-null  int64  \n",
      " 1   date                             1336186 non-null  object \n",
      " 2   country                          1336186 non-null  object \n",
      " 3   state                            1336186 non-null  object \n",
      " 4   city                             1336186 non-null  object \n",
      " 5   ibgeid                           1336186 non-null  int64  \n",
      " 6   newdeaths                        1336186 non-null  int64  \n",
      " 7   deaths                           1336186 non-null  int64  \n",
      " 8   newcases                         1336186 non-null  int64  \n",
      " 9   totalcases                       1336186 non-null  int64  \n",
      " 10  deaths_per_100k_inhabitants      1336186 non-null  float64\n",
      " 11  totalcases_per_100k_inhabitants  1336186 non-null  float64\n",
      " 12  deaths_by_totalcases             1336186 non-null  float64\n",
      " 13  _source                          1335600 non-null  object \n",
      " 14  last_info_date                   1335600 non-null  object \n",
      "dtypes: float64(3), int64(6), object(6)\n",
      "memory usage: 152.9+ MB\n"
     ]
    }
   ],
   "source": [
    "#Quais os tipos de cada uma das variáveis?\n",
    "data.info()"
   ]
  },
  {
   "cell_type": "code",
   "execution_count": 7,
   "id": "72fd4de5",
   "metadata": {},
   "outputs": [
    {
     "data": {
      "text/html": [
       "<div>\n",
       "<style scoped>\n",
       "    .dataframe tbody tr th:only-of-type {\n",
       "        vertical-align: middle;\n",
       "    }\n",
       "\n",
       "    .dataframe tbody tr th {\n",
       "        vertical-align: top;\n",
       "    }\n",
       "\n",
       "    .dataframe thead th {\n",
       "        text-align: right;\n",
       "    }\n",
       "</style>\n",
       "<table border=\"1\" class=\"dataframe\">\n",
       "  <thead>\n",
       "    <tr style=\"text-align: right;\">\n",
       "      <th></th>\n",
       "      <th>epi_week</th>\n",
       "      <th>date</th>\n",
       "      <th>country</th>\n",
       "      <th>state</th>\n",
       "      <th>city</th>\n",
       "      <th>ibgeid</th>\n",
       "      <th>newdeaths</th>\n",
       "      <th>deaths</th>\n",
       "      <th>newcases</th>\n",
       "      <th>totalcases</th>\n",
       "      <th>deaths_per_100k_inhabitants</th>\n",
       "      <th>totalcases_per_100k_inhabitants</th>\n",
       "      <th>deaths_by_totalcases</th>\n",
       "      <th>_source</th>\n",
       "      <th>last_info_date</th>\n",
       "    </tr>\n",
       "  </thead>\n",
       "  <tbody>\n",
       "    <tr>\n",
       "      <th>0</th>\n",
       "      <td>47</td>\n",
       "      <td>2020-11-19</td>\n",
       "      <td>Brazil</td>\n",
       "      <td>CE</td>\n",
       "      <td>Tamboril/CE</td>\n",
       "      <td>2313203</td>\n",
       "      <td>0</td>\n",
       "      <td>7</td>\n",
       "      <td>2</td>\n",
       "      <td>471</td>\n",
       "      <td>26.71858</td>\n",
       "      <td>1797.77854</td>\n",
       "      <td>0.01486</td>\n",
       "      <td>SES</td>\n",
       "      <td>2021-09-16</td>\n",
       "    </tr>\n",
       "    <tr>\n",
       "      <th>1</th>\n",
       "      <td>47</td>\n",
       "      <td>2020-11-19</td>\n",
       "      <td>Brazil</td>\n",
       "      <td>SP</td>\n",
       "      <td>Tanabi/SP</td>\n",
       "      <td>3553401</td>\n",
       "      <td>0</td>\n",
       "      <td>29</td>\n",
       "      <td>6</td>\n",
       "      <td>1418</td>\n",
       "      <td>110.55621</td>\n",
       "      <td>5405.81754</td>\n",
       "      <td>0.02045</td>\n",
       "      <td>SES</td>\n",
       "      <td>2021-10-01</td>\n",
       "    </tr>\n",
       "    <tr>\n",
       "      <th>2</th>\n",
       "      <td>47</td>\n",
       "      <td>2020-11-19</td>\n",
       "      <td>Brazil</td>\n",
       "      <td>MT</td>\n",
       "      <td>Tangará da Serra/MT</td>\n",
       "      <td>5107958</td>\n",
       "      <td>0</td>\n",
       "      <td>83</td>\n",
       "      <td>15</td>\n",
       "      <td>5969</td>\n",
       "      <td>77.11533</td>\n",
       "      <td>5545.80000</td>\n",
       "      <td>0.01391</td>\n",
       "      <td>MS</td>\n",
       "      <td>2021-10-09</td>\n",
       "    </tr>\n",
       "  </tbody>\n",
       "</table>\n",
       "</div>"
      ],
      "text/plain": [
       "   epi_week        date country state                 city   ibgeid  \\\n",
       "0        47  2020-11-19  Brazil    CE          Tamboril/CE  2313203   \n",
       "1        47  2020-11-19  Brazil    SP            Tanabi/SP  3553401   \n",
       "2        47  2020-11-19  Brazil    MT  Tangará da Serra/MT  5107958   \n",
       "\n",
       "   newdeaths  deaths  newcases  totalcases  deaths_per_100k_inhabitants  \\\n",
       "0          0       7         2         471                     26.71858   \n",
       "1          0      29         6        1418                    110.55621   \n",
       "2          0      83        15        5969                     77.11533   \n",
       "\n",
       "   totalcases_per_100k_inhabitants  deaths_by_totalcases _source  \\\n",
       "0                       1797.77854               0.01486     SES   \n",
       "1                       5405.81754               0.02045     SES   \n",
       "2                       5545.80000               0.01391      MS   \n",
       "\n",
       "  last_info_date  \n",
       "0     2021-09-16  \n",
       "1     2021-10-01  \n",
       "2     2021-10-09  "
      ]
     },
     "execution_count": 7,
     "metadata": {},
     "output_type": "execute_result"
    }
   ],
   "source": [
    "#Quais são o primeiros dados?\n",
    "data.head(3)"
   ]
  },
  {
   "cell_type": "code",
   "execution_count": 8,
   "id": "c7820ebe",
   "metadata": {},
   "outputs": [
    {
     "data": {
      "text/html": [
       "<div>\n",
       "<style scoped>\n",
       "    .dataframe tbody tr th:only-of-type {\n",
       "        vertical-align: middle;\n",
       "    }\n",
       "\n",
       "    .dataframe tbody tr th {\n",
       "        vertical-align: top;\n",
       "    }\n",
       "\n",
       "    .dataframe thead th {\n",
       "        text-align: right;\n",
       "    }\n",
       "</style>\n",
       "<table border=\"1\" class=\"dataframe\">\n",
       "  <thead>\n",
       "    <tr style=\"text-align: right;\">\n",
       "      <th></th>\n",
       "      <th>epi_week</th>\n",
       "      <th>date</th>\n",
       "      <th>country</th>\n",
       "      <th>state</th>\n",
       "      <th>city</th>\n",
       "      <th>ibgeid</th>\n",
       "      <th>newdeaths</th>\n",
       "      <th>deaths</th>\n",
       "      <th>newcases</th>\n",
       "      <th>totalcases</th>\n",
       "      <th>deaths_per_100k_inhabitants</th>\n",
       "      <th>totalcases_per_100k_inhabitants</th>\n",
       "      <th>deaths_by_totalcases</th>\n",
       "      <th>_source</th>\n",
       "      <th>last_info_date</th>\n",
       "    </tr>\n",
       "  </thead>\n",
       "  <tbody>\n",
       "    <tr>\n",
       "      <th>1336183</th>\n",
       "      <td>47</td>\n",
       "      <td>2020-11-19</td>\n",
       "      <td>Brazil</td>\n",
       "      <td>SC</td>\n",
       "      <td>Taió/SC</td>\n",
       "      <td>4217808</td>\n",
       "      <td>0</td>\n",
       "      <td>5</td>\n",
       "      <td>17</td>\n",
       "      <td>520</td>\n",
       "      <td>26.91645</td>\n",
       "      <td>2799.31094</td>\n",
       "      <td>0.00962</td>\n",
       "      <td>SES</td>\n",
       "      <td>2021-10-07</td>\n",
       "    </tr>\n",
       "    <tr>\n",
       "      <th>1336184</th>\n",
       "      <td>47</td>\n",
       "      <td>2020-11-19</td>\n",
       "      <td>Brazil</td>\n",
       "      <td>PR</td>\n",
       "      <td>Tamarana/PR</td>\n",
       "      <td>4126678</td>\n",
       "      <td>0</td>\n",
       "      <td>9</td>\n",
       "      <td>2</td>\n",
       "      <td>230</td>\n",
       "      <td>58.91209</td>\n",
       "      <td>1505.53119</td>\n",
       "      <td>0.03913</td>\n",
       "      <td>SES</td>\n",
       "      <td>2021-09-22</td>\n",
       "    </tr>\n",
       "    <tr>\n",
       "      <th>1336185</th>\n",
       "      <td>47</td>\n",
       "      <td>2020-11-19</td>\n",
       "      <td>Brazil</td>\n",
       "      <td>SP</td>\n",
       "      <td>Tambaú/SP</td>\n",
       "      <td>3553302</td>\n",
       "      <td>0</td>\n",
       "      <td>11</td>\n",
       "      <td>1</td>\n",
       "      <td>478</td>\n",
       "      <td>47.30166</td>\n",
       "      <td>2055.47194</td>\n",
       "      <td>0.02301</td>\n",
       "      <td>SES</td>\n",
       "      <td>2021-10-01</td>\n",
       "    </tr>\n",
       "  </tbody>\n",
       "</table>\n",
       "</div>"
      ],
      "text/plain": [
       "         epi_week        date country state         city   ibgeid  newdeaths  \\\n",
       "1336183        47  2020-11-19  Brazil    SC      Taió/SC  4217808          0   \n",
       "1336184        47  2020-11-19  Brazil    PR  Tamarana/PR  4126678          0   \n",
       "1336185        47  2020-11-19  Brazil    SP    Tambaú/SP  3553302          0   \n",
       "\n",
       "         deaths  newcases  totalcases  deaths_per_100k_inhabitants  \\\n",
       "1336183       5        17         520                     26.91645   \n",
       "1336184       9         2         230                     58.91209   \n",
       "1336185      11         1         478                     47.30166   \n",
       "\n",
       "         totalcases_per_100k_inhabitants  deaths_by_totalcases _source  \\\n",
       "1336183                       2799.31094               0.00962     SES   \n",
       "1336184                       1505.53119               0.03913     SES   \n",
       "1336185                       2055.47194               0.02301     SES   \n",
       "\n",
       "        last_info_date  \n",
       "1336183     2021-10-07  \n",
       "1336184     2021-09-22  \n",
       "1336185     2021-10-01  "
      ]
     },
     "execution_count": 8,
     "metadata": {},
     "output_type": "execute_result"
    }
   ],
   "source": [
    "#Quais são os últimos dados?\n",
    "data.tail(3)"
   ]
  },
  {
   "cell_type": "code",
   "execution_count": 9,
   "id": "2508d33b",
   "metadata": {},
   "outputs": [
    {
     "data": {
      "text/html": [
       "<div>\n",
       "<style scoped>\n",
       "    .dataframe tbody tr th:only-of-type {\n",
       "        vertical-align: middle;\n",
       "    }\n",
       "\n",
       "    .dataframe tbody tr th {\n",
       "        vertical-align: top;\n",
       "    }\n",
       "\n",
       "    .dataframe thead th {\n",
       "        text-align: right;\n",
       "    }\n",
       "</style>\n",
       "<table border=\"1\" class=\"dataframe\">\n",
       "  <thead>\n",
       "    <tr style=\"text-align: right;\">\n",
       "      <th></th>\n",
       "      <th>epi_week</th>\n",
       "      <th>date</th>\n",
       "      <th>country</th>\n",
       "      <th>state</th>\n",
       "      <th>city</th>\n",
       "      <th>ibgeid</th>\n",
       "      <th>newdeaths</th>\n",
       "      <th>deaths</th>\n",
       "      <th>newcases</th>\n",
       "      <th>totalcases</th>\n",
       "      <th>deaths_per_100k_inhabitants</th>\n",
       "      <th>totalcases_per_100k_inhabitants</th>\n",
       "      <th>deaths_by_totalcases</th>\n",
       "      <th>_source</th>\n",
       "      <th>last_info_date</th>\n",
       "    </tr>\n",
       "  </thead>\n",
       "  <tbody>\n",
       "    <tr>\n",
       "      <th>881530</th>\n",
       "      <td>9</td>\n",
       "      <td>2020-02-25</td>\n",
       "      <td>Brazil</td>\n",
       "      <td>SP</td>\n",
       "      <td>São Paulo/SP</td>\n",
       "      <td>3550308</td>\n",
       "      <td>0</td>\n",
       "      <td>0</td>\n",
       "      <td>1</td>\n",
       "      <td>1</td>\n",
       "      <td>0.0</td>\n",
       "      <td>0.00807</td>\n",
       "      <td>0.0</td>\n",
       "      <td>SES</td>\n",
       "      <td>2021-10-01</td>\n",
       "    </tr>\n",
       "    <tr>\n",
       "      <th>881531</th>\n",
       "      <td>9</td>\n",
       "      <td>2020-02-25</td>\n",
       "      <td>Brazil</td>\n",
       "      <td>TOTAL</td>\n",
       "      <td>TOTAL</td>\n",
       "      <td>0</td>\n",
       "      <td>0</td>\n",
       "      <td>0</td>\n",
       "      <td>1</td>\n",
       "      <td>1</td>\n",
       "      <td>0.0</td>\n",
       "      <td>0.00047</td>\n",
       "      <td>0.0</td>\n",
       "      <td>None</td>\n",
       "      <td>None</td>\n",
       "    </tr>\n",
       "    <tr>\n",
       "      <th>881532</th>\n",
       "      <td>9</td>\n",
       "      <td>2020-02-28</td>\n",
       "      <td>Brazil</td>\n",
       "      <td>SP</td>\n",
       "      <td>São Paulo/SP</td>\n",
       "      <td>3550308</td>\n",
       "      <td>0</td>\n",
       "      <td>0</td>\n",
       "      <td>1</td>\n",
       "      <td>2</td>\n",
       "      <td>0.0</td>\n",
       "      <td>0.01613</td>\n",
       "      <td>0.0</td>\n",
       "      <td>SES</td>\n",
       "      <td>2021-10-01</td>\n",
       "    </tr>\n",
       "  </tbody>\n",
       "</table>\n",
       "</div>"
      ],
      "text/plain": [
       "        epi_week        date country  state          city   ibgeid  newdeaths  \\\n",
       "881530         9  2020-02-25  Brazil     SP  São Paulo/SP  3550308          0   \n",
       "881531         9  2020-02-25  Brazil  TOTAL         TOTAL        0          0   \n",
       "881532         9  2020-02-28  Brazil     SP  São Paulo/SP  3550308          0   \n",
       "\n",
       "        deaths  newcases  totalcases  deaths_per_100k_inhabitants  \\\n",
       "881530       0         1           1                          0.0   \n",
       "881531       0         1           1                          0.0   \n",
       "881532       0         1           2                          0.0   \n",
       "\n",
       "        totalcases_per_100k_inhabitants  deaths_by_totalcases _source  \\\n",
       "881530                          0.00807                   0.0     SES   \n",
       "881531                          0.00047                   0.0    None   \n",
       "881532                          0.01613                   0.0     SES   \n",
       "\n",
       "       last_info_date  \n",
       "881530     2021-10-01  \n",
       "881531           None  \n",
       "881532     2021-10-01  "
      ]
     },
     "execution_count": 9,
     "metadata": {},
     "output_type": "execute_result"
    }
   ],
   "source": [
    "data.sort_values(['date']).head(3)"
   ]
  },
  {
   "cell_type": "code",
   "execution_count": 10,
   "id": "c34a2c3f",
   "metadata": {},
   "outputs": [
    {
     "data": {
      "text/html": [
       "<div>\n",
       "<style scoped>\n",
       "    .dataframe tbody tr th:only-of-type {\n",
       "        vertical-align: middle;\n",
       "    }\n",
       "\n",
       "    .dataframe tbody tr th {\n",
       "        vertical-align: top;\n",
       "    }\n",
       "\n",
       "    .dataframe thead th {\n",
       "        text-align: right;\n",
       "    }\n",
       "</style>\n",
       "<table border=\"1\" class=\"dataframe\">\n",
       "  <thead>\n",
       "    <tr style=\"text-align: right;\">\n",
       "      <th></th>\n",
       "      <th>epi_week</th>\n",
       "      <th>date</th>\n",
       "      <th>country</th>\n",
       "      <th>state</th>\n",
       "      <th>city</th>\n",
       "      <th>ibgeid</th>\n",
       "      <th>newdeaths</th>\n",
       "      <th>deaths</th>\n",
       "      <th>newcases</th>\n",
       "      <th>totalcases</th>\n",
       "      <th>deaths_per_100k_inhabitants</th>\n",
       "      <th>totalcases_per_100k_inhabitants</th>\n",
       "      <th>deaths_by_totalcases</th>\n",
       "      <th>_source</th>\n",
       "      <th>last_info_date</th>\n",
       "    </tr>\n",
       "  </thead>\n",
       "  <tbody>\n",
       "    <tr>\n",
       "      <th>880369</th>\n",
       "      <td>140</td>\n",
       "      <td>2021-10-09</td>\n",
       "      <td>Brazil</td>\n",
       "      <td>PI</td>\n",
       "      <td>Floriano/PI</td>\n",
       "      <td>2203909</td>\n",
       "      <td>0</td>\n",
       "      <td>164</td>\n",
       "      <td>1</td>\n",
       "      <td>9000</td>\n",
       "      <td>272.82860</td>\n",
       "      <td>14972.30124</td>\n",
       "      <td>0.01822</td>\n",
       "      <td>SES</td>\n",
       "      <td>2021-10-09</td>\n",
       "    </tr>\n",
       "    <tr>\n",
       "      <th>880368</th>\n",
       "      <td>140</td>\n",
       "      <td>2021-10-09</td>\n",
       "      <td>Brazil</td>\n",
       "      <td>BA</td>\n",
       "      <td>Floresta Azul/BA</td>\n",
       "      <td>2911006</td>\n",
       "      <td>0</td>\n",
       "      <td>19</td>\n",
       "      <td>-1</td>\n",
       "      <td>841</td>\n",
       "      <td>180.52257</td>\n",
       "      <td>7990.49881</td>\n",
       "      <td>0.02259</td>\n",
       "      <td>MS</td>\n",
       "      <td>2021-10-09</td>\n",
       "    </tr>\n",
       "    <tr>\n",
       "      <th>880367</th>\n",
       "      <td>140</td>\n",
       "      <td>2021-10-09</td>\n",
       "      <td>Brazil</td>\n",
       "      <td>RS</td>\n",
       "      <td>Flores da Cunha/RS</td>\n",
       "      <td>4308201</td>\n",
       "      <td>0</td>\n",
       "      <td>69</td>\n",
       "      <td>6</td>\n",
       "      <td>5559</td>\n",
       "      <td>220.08165</td>\n",
       "      <td>17730.92626</td>\n",
       "      <td>0.01241</td>\n",
       "      <td>MS</td>\n",
       "      <td>2021-10-09</td>\n",
       "    </tr>\n",
       "    <tr>\n",
       "      <th>880378</th>\n",
       "      <td>140</td>\n",
       "      <td>2021-10-09</td>\n",
       "      <td>Brazil</td>\n",
       "      <td>SP</td>\n",
       "      <td>Franca/SP</td>\n",
       "      <td>3516200</td>\n",
       "      <td>3</td>\n",
       "      <td>914</td>\n",
       "      <td>11</td>\n",
       "      <td>38516</td>\n",
       "      <td>254.92345</td>\n",
       "      <td>10742.48548</td>\n",
       "      <td>0.02373</td>\n",
       "      <td>MS</td>\n",
       "      <td>2021-10-09</td>\n",
       "    </tr>\n",
       "    <tr>\n",
       "      <th>880260</th>\n",
       "      <td>140</td>\n",
       "      <td>2021-10-09</td>\n",
       "      <td>Brazil</td>\n",
       "      <td>SP</td>\n",
       "      <td>Cotia/SP</td>\n",
       "      <td>3513009</td>\n",
       "      <td>0</td>\n",
       "      <td>646</td>\n",
       "      <td>65</td>\n",
       "      <td>16284</td>\n",
       "      <td>250.50217</td>\n",
       "      <td>6314.51594</td>\n",
       "      <td>0.03967</td>\n",
       "      <td>MS</td>\n",
       "      <td>2021-10-09</td>\n",
       "    </tr>\n",
       "  </tbody>\n",
       "</table>\n",
       "</div>"
      ],
      "text/plain": [
       "        epi_week        date country state                city   ibgeid  \\\n",
       "880369       140  2021-10-09  Brazil    PI         Floriano/PI  2203909   \n",
       "880368       140  2021-10-09  Brazil    BA    Floresta Azul/BA  2911006   \n",
       "880367       140  2021-10-09  Brazil    RS  Flores da Cunha/RS  4308201   \n",
       "880378       140  2021-10-09  Brazil    SP           Franca/SP  3516200   \n",
       "880260       140  2021-10-09  Brazil    SP            Cotia/SP  3513009   \n",
       "\n",
       "        newdeaths  deaths  newcases  totalcases  deaths_per_100k_inhabitants  \\\n",
       "880369          0     164         1        9000                    272.82860   \n",
       "880368          0      19        -1         841                    180.52257   \n",
       "880367          0      69         6        5559                    220.08165   \n",
       "880378          3     914        11       38516                    254.92345   \n",
       "880260          0     646        65       16284                    250.50217   \n",
       "\n",
       "        totalcases_per_100k_inhabitants  deaths_by_totalcases _source  \\\n",
       "880369                      14972.30124               0.01822     SES   \n",
       "880368                       7990.49881               0.02259      MS   \n",
       "880367                      17730.92626               0.01241      MS   \n",
       "880378                      10742.48548               0.02373      MS   \n",
       "880260                       6314.51594               0.03967      MS   \n",
       "\n",
       "       last_info_date  \n",
       "880369     2021-10-09  \n",
       "880368     2021-10-09  \n",
       "880367     2021-10-09  \n",
       "880378     2021-10-09  \n",
       "880260     2021-10-09  "
      ]
     },
     "execution_count": 10,
     "metadata": {},
     "output_type": "execute_result"
    }
   ],
   "source": [
    "data.sort_values(['date']).tail(5)"
   ]
  },
  {
   "cell_type": "code",
   "execution_count": 11,
   "id": "f0c1af7f",
   "metadata": {},
   "outputs": [
    {
     "name": "stdout",
     "output_type": "stream",
     "text": [
      "Index(['epi_week', 'date', 'country', 'state', 'city', 'ibgeid', 'newdeaths',\n",
      "       'deaths', 'newcases', 'totalcases', 'deaths_per_100k_inhabitants',\n",
      "       'totalcases_per_100k_inhabitants', 'deaths_by_totalcases', '_source',\n",
      "       'last_info_date'],\n",
      "      dtype='object')\n"
     ]
    }
   ],
   "source": [
    "print(data.columns)\n"
   ]
  },
  {
   "cell_type": "code",
   "execution_count": 12,
   "id": "0023ed2b",
   "metadata": {},
   "outputs": [],
   "source": [
    "#Retirando as linhas TOTAL, Ordenando por data e Selecionando apenas algumas colunas\n",
    "data_ord = data.query(\"state != 'TOTAL'\").sort_values(['date'])[['date', 'state','city', 'newdeaths', \n",
    "                                                                  'deaths', 'newcases', 'totalcases']]"
   ]
  },
  {
   "cell_type": "code",
   "execution_count": 13,
   "id": "e46d9ce1",
   "metadata": {},
   "outputs": [
    {
     "data": {
      "text/plain": [
       "date\n",
       "2021-04-08    4148\n",
       "2021-04-06    4068\n",
       "2021-03-31    3925\n",
       "2021-04-13    3757\n",
       "2021-04-09    3752\n",
       "              ... \n",
       "2020-03-12       0\n",
       "2020-03-13       0\n",
       "2020-03-14       0\n",
       "2020-03-15       0\n",
       "2020-02-25       0\n",
       "Name: newdeaths, Length: 586, dtype: int64"
      ]
     },
     "execution_count": 13,
     "metadata": {},
     "output_type": "execute_result"
    }
   ],
   "source": [
    "#Quais os dias que mais morreram pessoas?\n",
    "df = data_ord.groupby(data_ord['date'])['newdeaths'].sum().sort_values(ascending=False)\n",
    "df"
   ]
  },
  {
   "cell_type": "code",
   "execution_count": 14,
   "id": "f0e98209",
   "metadata": {},
   "outputs": [
    {
     "data": {
      "text/plain": [
       "<AxesSubplot:xlabel='date'>"
      ]
     },
     "execution_count": 14,
     "metadata": {},
     "output_type": "execute_result"
    },
    {
     "data": {
      "image/png": "[encoded data removed]",
      "text/plain": [
       "<Figure size 432x288 with 1 Axes>"
      ]
     },
     "metadata": {
      "needs_background": "light"
     },
     "output_type": "display_data"
    }
   ],
   "source": [
    "df.plot(x=\"date\", y=\"newdeaths\")"
   ]
  },
  {
   "cell_type": "code",
   "execution_count": 15,
   "id": "41dd867e",
   "metadata": {},
   "outputs": [
    {
     "data": {
      "text/plain": [
       "city\n",
       "São Paulo/SP                        38506\n",
       "Rio de Janeiro/RJ                   34494\n",
       "Brasília/DF                         10594\n",
       "Fortaleza/CE                         9728\n",
       "Manaus/AM                            9472\n",
       "                                    ...  \n",
       "Serra Azul de Minas/MG                  0\n",
       "CASO SEM LOCALIZAÇÃO DEFINIDA/SC        0\n",
       "Novo Horizonte/SC                       0\n",
       "Pedro Teixeira/MG                       0\n",
       "CASO SEM LOCALIZAÇÃO DEFINIDA/RO        0\n",
       "Name: newdeaths, Length: 5596, dtype: int64"
      ]
     },
     "execution_count": 15,
     "metadata": {},
     "output_type": "execute_result"
    }
   ],
   "source": [
    "#Em quais cidades mais morreram pessoas?\n",
    "df = data_ord.groupby(data_ord['city'])['newdeaths'].sum().sort_values(ascending=False)\n",
    "df"
   ]
  },
  {
   "cell_type": "code",
   "execution_count": 16,
   "id": "7a15702c",
   "metadata": {},
   "outputs": [
    {
     "data": {
      "text/plain": [
       "<AxesSubplot:xlabel='date'>"
      ]
     },
     "execution_count": 16,
     "metadata": {},
     "output_type": "execute_result"
    },
    {
     "data": {
      "image/png": "[encoded data removed]",
      "text/plain": [
       "<Figure size 432x288 with 1 Axes>"
      ]
     },
     "metadata": {
      "needs_background": "light"
     },
     "output_type": "display_data"
    }
   ],
   "source": [
    "data_ord[data_ord.city == \"São Paulo/SP\"].plot(x=\"date\", y=\"newdeaths\")"
   ]
  },
  {
   "cell_type": "markdown",
   "id": "1d7f7c76",
   "metadata": {},
   "source": [
    "## Fontes de consulta:\n",
    "\n",
    "[One-stop-shop for Connecting Snowflake to Python!](https://www.analyticsvidhya.com/blog/2021/05/one-stop-shop-for-connecting-snowflake-to-python/)   \n",
    "[Connecting Jupyter Notebooks to Snowflake for Data Science](https://www.youtube.com/watch?v=HBvZc3-WEEQ)   \n",
    "[covid19br: examples with pandas (Python)](https://colab.research.google.com/drive/1H1N387IIAGV-3YRtyxzPz94vSiLrhE0M?usp=sharing#scrollTo=42Z5j9yuBuz6)   \n",
    "[Hands on SnowFlake](https://quickstarts.snowflake.com/guide/getting_started_with_snowflake/index.html#0)"
   ]
  },
  {
   "cell_type": "code",
   "execution_count": null,
   "id": "0c1cfabc",
   "metadata": {},
   "outputs": [],
   "source": []
  }
 ],
 "metadata": {
  "kernelspec": {
   "display_name": "Python 3",
   "language": "python",
   "name": "python3"
  },
  "language_info": {
   "codemirror_mode": {
    "name": "ipython",
    "version": 3
   },
   "file_extension": ".py",
   "mimetype": "text/x-python",
   "name": "python",
   "nbconvert_exporter": "python",
   "pygments_lexer": "ipython3",
   "version": "3.8.8"
  }
 },
 "nbformat": 4,
 "nbformat_minor": 5
}
